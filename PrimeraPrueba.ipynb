{
 "cells": [
  {
   "cell_type": "markdown",
   "id": "2bb7399d-b691-480f-9d55-2b2b9ba30c51",
   "metadata": {},
   "source": [
    "Primera prueba de Jupyter y GitHub"
   ]
  },
  {
   "cell_type": "code",
   "execution_count": 1,
   "id": "17533673-7c90-42fc-9749-5e78a47999af",
   "metadata": {},
   "outputs": [
    {
     "name": "stdout",
     "output_type": "stream",
     "text": [
      "Hola mundo\n"
     ]
    }
   ],
   "source": [
    "print(\"Hola mundo\")"
   ]
  }
 ],
 "metadata": {
  "kernelspec": {
   "display_name": "Python 3",
   "language": "python",
   "name": "python3"
  },
  "language_info": {
   "codemirror_mode": {
    "name": "ipython",
    "version": 3
   },
   "file_extension": ".py",
   "mimetype": "text/x-python",
   "name": "python",
   "nbconvert_exporter": "python",
   "pygments_lexer": "ipython3",
   "version": "3.8.8"
  }
 },
 "nbformat": 4,
 "nbformat_minor": 5
}
