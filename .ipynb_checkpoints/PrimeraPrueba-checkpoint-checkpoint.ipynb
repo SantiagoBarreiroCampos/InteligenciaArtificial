{
 "cells": [
  {
   "cell_type": "markdown",
   "id": "2bb7399d-b691-480f-9d55-2b2b9ba30c51",
   "metadata": {},
   "source": [
    "Primera prueba de Jupyter y GitHub"
   ]
  },
  {
   "cell_type": "code",
   "execution_count": 4,
   "id": "17533673-7c90-42fc-9749-5e78a47999af",
   "metadata": {},
   "outputs": [
    {
     "name": "stdout",
     "output_type": "stream",
     "text": [
      "Hola mundo\n"
     ]
    }
   ],
   "source": [
    "print(\"Hola mundo\")"
   ]
  },
  {
   "cell_type": "code",
   "execution_count": 5,
   "id": "c21c8007-4b8f-46d0-beea-e1c1b164f2ff",
   "metadata": {},
   "outputs": [
    {
     "name": "stdout",
     "output_type": "stream",
     "text": [
      "A Pablo ya le va el repo (2º intento)\n"
     ]
    }
   ],
   "source": [
    "print(\"A Pablo ya le va el repo (2º intento)\")"
   ]
  },
  {
   "cell_type": "code",
   "execution_count": null,
   "id": "c8b0ca6c-81fa-4441-a8df-7cc02f4d47c0",
   "metadata": {},
   "outputs": [],
   "source": []
  }
 ],
 "metadata": {
  "kernelspec": {
   "display_name": "Python 3",
   "language": "python",
   "name": "python3"
  },
  "language_info": {
   "codemirror_mode": {
    "name": "ipython",
    "version": 3
   },
   "file_extension": ".py",
   "mimetype": "text/x-python",
   "name": "python",
   "nbconvert_exporter": "python",
   "pygments_lexer": "ipython3",
   "version": "3.8.8"
  }
 },
 "nbformat": 4,
 "nbformat_minor": 5
}
